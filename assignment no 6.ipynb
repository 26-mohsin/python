{
 "cells": [
  {
   "cell_type": "code",
   "execution_count": 1,
   "metadata": {},
   "outputs": [
    {
     "name": "stdout",
     "output_type": "stream",
     "text": [
      "object-oriented programming (OOP) is a programming language model in which programs are organized around data, or objects, rather than functions and logic. An object can be defined as a data field that has unique attributes and behavior. Examples of an object can range from physical entities, such as a human being that is described by properties like name and address, down to small computer programs, such as widgets. This opposes the historical approach to programming where emphasis was placed on how the logic was written rather than how to define the data within the logic.\n"
     ]
    }
   ],
   "source": [
    "print(\"object-oriented programming (OOP) is a programming language model in which programs are organized around data, or objects, rather than functions and logic. An object can be defined as a data field that has unique attributes and behavior. Examples of an object can range from physical entities, such as a human being that is described by properties like name and address, down to small computer programs, such as widgets. This opposes the historical approach to programming where emphasis was placed on how the logic was written rather than how to define the data within the logic.\")"
   ]
  },
  {
   "cell_type": "code",
   "execution_count": 18,
   "metadata": {},
   "outputs": [
    {
     "name": "stdout",
     "output_type": "stream",
     "text": [
      "1__  We can use it in n number of times whenever we needs it \n",
      "\n",
      " 2__  The most important part is the security.With the use of data hiding and abstraction mechanism, we can filter out limited data to exposure which means we are maintaining security and providing necessary data to view \n",
      "\n",
      " 3 __  Objects can be maintained saperately, making location and fixing problems easier for the user \n",
      "\n",
      " 4__   It can build the extensibility like adding new features or responding to changing operating environments can be solved by introducing a few new objects and modifying  some existing ones \n",
      "\n",
      "\n"
     ]
    }
   ],
   "source": [
    "a=\"1__  We can use it in n number of times whenever we needs it \\n\\n\"\n",
    "b=\"2__  The most important part is the security.With the use of data hiding and abstraction mechanism, we can filter out limited data to exposure which means we are maintaining security and providing necessary data to view \\n\\n\"\n",
    "c=\"3 __  Objects can be maintained saperately, making location and fixing problems easier for the user \\n\\n\"\n",
    "d=\"4__   It can build the extensibility like adding new features or responding to changing operating environments can be solved by introducing a few new objects and modifying  some existing ones \\n\\n\"\n",
    "\n",
    "print(a, b, c, d)"
   ]
  },
  {
   "cell_type": "code",
   "execution_count": 26,
   "metadata": {},
   "outputs": [
    {
     "name": "stdout",
     "output_type": "stream",
     "text": [
      "FUNCTION: \n",
      "\n",
      " .Functions have independent existence means they can be defined outside of the class. Ex:- main() function in C, C++ Language \n",
      "\n",
      ". Functions are defined in structured languages like Pascal,C and object based language like javaScript  \n",
      "\n",
      ". Functions do not have any reference variable \n",
      "\n",
      ". Functions are self describing unit of code  \n",
      "\n",
      ". All data that are passed to a function are explicitly passed. \n",
      "\n",
      " METHOD: \n",
      "\n",
      " . Methods do not have independent existence they are always defined with in class. Ex:- main() method in C# Language that is defined with in a class \n",
      "\n",
      " . Methods are defined in object oriented languages like C#, Java \n",
      "\n",
      " .Methods are called using reference variable \n",
      "\n",
      ". Methods are used to manipuate instance variable of a class.\n"
     ]
    }
   ],
   "source": [
    "function=\"FUNCTION: \\n\\n .Functions have independent existence means they can be defined outside of the class. Ex:- main() function in C, C++ Language \\n\\n. Functions are defined in structured languages like Pascal,C and object based language like javaScript  \\n\\n. Functions do not have any reference variable \\n\\n. Functions are self describing unit of code  \\n\\n. All data that are passed to a function are explicitly passed.\"\n",
    "method=\" \\n\\n METHOD: \\n\\n . Methods do not have independent existence they are always defined with in class. Ex:- main() method in C# Language that is defined with in a class \\n\\n . Methods are defined in object oriented languages like C#, Java \\n\\n .Methods are called using reference variable \\n\\n. Methods are used to manipuate instance variable of a class.\"\n",
    "\n",
    "print(function + method)\n"
   ]
  },
  {
   "cell_type": "code",
   "execution_count": 31,
   "metadata": {},
   "outputs": [
    {
     "name": "stdout",
     "output_type": "stream",
     "text": [
      "CLASS: \n",
      "\n",
      " .A class is a kind of data type, just like a string, integer or list. When we create an object of that data type, we call it an instance of a class.   \n",
      "\n",
      " ATTRIBUTES: \n",
      "\n",
      " . Attributes are the individual things that differentiate one object from another and determine the appearance, state, or other qualities of that object   \n",
      "\n",
      " BEHAVIOUR: \n",
      "\n",
      "  . A class's behavior determines how an instance of that class operates; for example, how it will react if asked to do something by another class or object or if its internal state changes. Behavior is the only way objects can do anything to themselves or have anything done to them   \n",
      "\n",
      " OBJECT: \n",
      "\n",
      " . an instance of a class. this is the realized version of a class, where the class is manifested in the program \n"
     ]
    }
   ],
   "source": [
    "a=\"CLASS: \\n\\n .A class is a kind of data type, just like a string, integer or list. When we create an object of that data type, we call it an instance of a class. \"\n",
    "b=\" \\n\\n ATTRIBUTES: \\n\\n . Attributes are the individual things that differentiate one object from another and determine the appearance, state, or other qualities of that object \"\n",
    "c=\" \\n\\n BEHAVIOUR: \\n\\n  . A class's behavior determines how an instance of that class operates; for example, how it will react if asked to do something by another class or object or if its internal state changes. Behavior is the only way objects can do anything to themselves or have anything done to them \"\n",
    "d=\" \\n\\n OBJECT: \\n\\n . an instance of a class. this is the realized version of a class, where the class is manifested in the program. \"\n",
    "print(a, b, c, d)"
   ]
  },
  {
   "cell_type": "code",
   "execution_count": 57,
   "metadata": {},
   "outputs": [
    {
     "name": "stdout",
     "output_type": "stream",
     "text": [
      "honda\n",
      "civic\n",
      "black\n",
      "4\n",
      "180\n"
     ]
    }
   ],
   "source": [
    "class Person:\n",
    "  def __init__(self, brand, model, color, seats, speed, ):\n",
    "    self.brand = brand\n",
    "    self.model = model\n",
    "    self.color = color\n",
    "    self.seats = seats\n",
    "    self.speed = speed\n",
    "    \n",
    "\n",
    "object_is = Person(\"honda\",  \"civic\", \"black\", 4, 180)\n",
    "\n",
    "print(object_is.brand)\n",
    "print(object_is.model)\n",
    "print(object_is.color)\n",
    "print(object_is.seats)\n",
    "print(object_is.speed)"
   ]
  },
  {
   "cell_type": "code",
   "execution_count": null,
   "metadata": {},
   "outputs": [],
   "source": []
  }
 ],
 "metadata": {
  "kernelspec": {
   "display_name": "Python 3",
   "language": "python",
   "name": "python3"
  },
  "language_info": {
   "codemirror_mode": {
    "name": "ipython",
    "version": 3
   },
   "file_extension": ".py",
   "mimetype": "text/x-python",
   "name": "python",
   "nbconvert_exporter": "python",
   "pygments_lexer": "ipython3",
   "version": "3.7.4"
  }
 },
 "nbformat": 4,
 "nbformat_minor": 2
}
